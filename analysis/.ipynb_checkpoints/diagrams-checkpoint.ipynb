{
 "cells": [
  {
   "cell_type": "code",
   "execution_count": 1,
   "metadata": {},
   "outputs": [
    {
     "ename": "FileNotFoundError",
     "evalue": "[Errno 2] No such file or directory: '/Users/sammys/Desktop/BiasLPBenchmark/analysis/data/split_statistics/'",
     "output_type": "error",
     "traceback": [
      "\u001b[0;31m---------------------------------------------------------------------------\u001b[0m",
      "\u001b[0;31mFileNotFoundError\u001b[0m                         Traceback (most recent call last)",
      "Cell \u001b[0;32mIn[1], line 8\u001b[0m\n\u001b[1;32m      6\u001b[0m \u001b[38;5;66;03m# Create pie charts for split distribution\u001b[39;00m\n\u001b[1;32m      7\u001b[0m target_dir \u001b[38;5;241m=\u001b[39m os\u001b[38;5;241m.\u001b[39mgetcwd() \u001b[38;5;241m+\u001b[39m \u001b[38;5;124m\"\u001b[39m\u001b[38;5;124m/data/split_statistics/\u001b[39m\u001b[38;5;124m\"\u001b[39m\n\u001b[0;32m----> 8\u001b[0m data_files \u001b[38;5;241m=\u001b[39m [f \u001b[38;5;28;01mfor\u001b[39;00m f \u001b[38;5;129;01min\u001b[39;00m \u001b[43mos\u001b[49m\u001b[38;5;241;43m.\u001b[39;49m\u001b[43mlistdir\u001b[49m\u001b[43m(\u001b[49m\u001b[43mtarget_dir\u001b[49m\u001b[43m)\u001b[49m \u001b[38;5;28;01mif\u001b[39;00m os\u001b[38;5;241m.\u001b[39mpath\u001b[38;5;241m.\u001b[39misfile(target_dir \u001b[38;5;241m+\u001b[39m f)]\n\u001b[1;32m      9\u001b[0m \u001b[38;5;28;01mfor\u001b[39;00m file \u001b[38;5;129;01min\u001b[39;00m data_files:\n\u001b[1;32m     10\u001b[0m     df \u001b[38;5;241m=\u001b[39m pd\u001b[38;5;241m.\u001b[39mread_csv(target_dir \u001b[38;5;241m+\u001b[39m file)\n",
      "\u001b[0;31mFileNotFoundError\u001b[0m: [Errno 2] No such file or directory: '/Users/sammys/Desktop/BiasLPBenchmark/analysis/data/split_statistics/'"
     ]
    }
   ],
   "source": [
    "import numpy as np\n",
    "import pandas as pd\n",
    "import matplotlib.pyplot as plt\n",
    "import os\n",
    "\n",
    "# Create pie charts for split distribution\n",
    "target_dir = os.getcwd() + \"/data/split_statistics/\"\n",
    "data_files = [f for f in os.listdir(target_dir) if os.path.isfile(target_dir + f)]\n",
    "for file in data_files:\n",
    "    df = pd.read_csv(target_dir + file)\n",
    "    for index, row in df.iterrows():\n",
    "        labels = ['Training', 'Validation', 'Test']\n",
    "        data = [row[2]/row[1]*100, row[3]/row[1]*100, row[4]/row[1]*100]\n",
    "        fig, ax = plt.subplots()\n",
    "        ax.bar(labels, data)\n",
    "        title = row[0] + \" - \" + file.split(\".\")[0]\n",
    "        ax.set_title(title)\n",
    "        fig.savefig('output/{}.png'.format(title), dpi=fig.dpi)\n",
    "\n"
   ]
  },
  {
   "cell_type": "code",
   "execution_count": null,
   "metadata": {},
   "outputs": [],
   "source": []
  }
 ],
 "metadata": {
  "kernelspec": {
   "display_name": "Python 3 (ipykernel)",
   "language": "python",
   "name": "python3"
  },
  "language_info": {
   "codemirror_mode": {
    "name": "ipython",
    "version": 3
   },
   "file_extension": ".py",
   "mimetype": "text/x-python",
   "name": "python",
   "nbconvert_exporter": "python",
   "pygments_lexer": "ipython3",
   "version": "3.11.2"
  },
  "vscode": {
   "interpreter": {
    "hash": "2f56977283f069a2c960ab532e52b52b6b4a0c66385c80b1978482f91756eec0"
   }
  }
 },
 "nbformat": 4,
 "nbformat_minor": 2
}

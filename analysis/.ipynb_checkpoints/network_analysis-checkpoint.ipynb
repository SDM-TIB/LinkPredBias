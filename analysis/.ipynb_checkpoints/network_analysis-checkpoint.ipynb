{
 "cells": [
  {
   "cell_type": "code",
   "execution_count": 3,
   "metadata": {},
   "outputs": [],
   "source": [
    "import os\n",
    "import pandas as pd\n",
    "import networkx as nx\n",
    "import networkx.algorithms.community as nx_com\n",
    "\n",
    "# Get the current working directory\n",
    "data_dir = os.getcwd() + \"/../data/\"\n",
    "output_dir = os.getcwd() + \"/output/network_analysis/communities\"\n",
    "# Get a list of all folders in data directory\n",
    "dataset_folders = [f for f in os.listdir(data_dir) if os.path.isdir(data_dir + f)]\n",
    "\n",
    "df = pd.read_csv(data_dir + \"/FB15k/CSVFiles/merged.csv\")\n",
    "graph = nx.from_pandas_edgelist(df, 'Source', 'Target')\n",
    "communities = nx_com.louvain_communities(graph)\n",
    "\n",
    "if not os.path.exists(output_dir):\n",
    "    os.makedirs(output_dir)\n",
    "\n",
    "with open(output_dir + \"/FB15k.csv\", \"w\") as writer:\n",
    "    writer.write(\"CommunityID,Size\\n\")\n",
    "    for i, community in enumerate(communities):\n",
    "        writer.write(\"{},{}\\n\".format(i, len(community)))\n",
    "\n",
    "\n",
    "\n",
    "\n"
   ]
  },
  {
   "cell_type": "code",
   "execution_count": null,
   "metadata": {},
   "outputs": [],
   "source": []
  }
 ],
 "metadata": {
  "kernelspec": {
   "display_name": "Python 3 (ipykernel)",
   "language": "python",
   "name": "python3"
  },
  "language_info": {
   "codemirror_mode": {
    "name": "ipython",
    "version": 3
   },
   "file_extension": ".py",
   "mimetype": "text/x-python",
   "name": "python",
   "nbconvert_exporter": "python",
   "pygments_lexer": "ipython3",
   "version": "3.9.13"
  },
  "vscode": {
   "interpreter": {
    "hash": "40d3a090f54c6569ab1632332b64b2c03c39dcf918b08424e98f38b5ae0af88f"
   }
  }
 },
 "nbformat": 4,
 "nbformat_minor": 2
}

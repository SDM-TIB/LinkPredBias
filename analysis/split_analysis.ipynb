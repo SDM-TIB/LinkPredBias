{
 "cells": [
  {
   "cell_type": "code",
   "execution_count": null,
   "metadata": {},
   "outputs": [],
   "source": [
    "import numpy as np\n",
    "import pandas as pd\n",
    "import matplotlib.pyplot as plt\n",
    "import os\n",
    "\n",
    "# Create pie charts for split distribution\n",
    "target_dir = os.getcwd() + \"/data/split_statistics/\"\n",
    "data_files = [f for f in os.listdir(target_dir) if os.path.isfile(target_dir + f)]\n",
    "for file in data_files:\n",
    "    df = pd.read_csv(target_dir + file)\n",
    "    for index, row in df.iterrows():\n",
    "        labels = ['Training', 'Validation', 'Test']\n",
    "        data = [row[2]/row[1]*100, row[3]/row[1]*100, row[4]/row[1]*100]\n",
    "        fig, ax = plt.subplots()\n",
    "        ax.bar(labels, data)\n",
    "        title = row[0] + \" - \" + file.split(\".\")[0]\n",
    "        ax.set_title(title)\n",
    "        fig.savefig('output/{}.png'.format(title), dpi=fig.dpi)\n",
    "\n"
   ]
  },
  {
   "cell_type": "code",
   "execution_count": null,
   "metadata": {},
   "outputs": [],
   "source": []
  }
 ],
 "metadata": {
  "kernelspec": {
   "display_name": "base",
   "language": "python",
   "name": "python3"
  },
  "language_info": {
   "codemirror_mode": {
    "name": "ipython",
    "version": 3
   },
   "file_extension": ".py",
   "mimetype": "text/x-python",
   "name": "python",
   "nbconvert_exporter": "python",
   "pygments_lexer": "ipython3",
   "version": "3.9.13"
  },
  "orig_nbformat": 4,
  "vscode": {
   "interpreter": {
    "hash": "40d3a090f54c6569ab1632332b64b2c03c39dcf918b08424e98f38b5ae0af88f"
   }
  }
 },
 "nbformat": 4,
 "nbformat_minor": 2
}
